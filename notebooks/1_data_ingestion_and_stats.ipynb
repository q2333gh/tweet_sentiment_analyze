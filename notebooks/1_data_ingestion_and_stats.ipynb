{
  "cells": [
    {
      "cell_type": "code",
      "execution_count": 1,
      "metadata": {},
      "outputs": [],
      "source": [
        "# 第一步：数据加载与基本统计分析\n",
        "\n",
        "# 本 notebook 的目标：\n",
        "# 1. 初始化 Spark Session\n",
        "# 2. 加载原始数据\n",
        "# 3. 查看数据结构和基本信息\n",
        "# 4. 进行描述性统计分析\n"
      ]
    },
    {
      "cell_type": "code",
      "execution_count": 2,
      "metadata": {},
      "outputs": [],
      "source": [
        "# 导入必要的库\n",
        "from pyspark.sql import SparkSession\n",
        "import pyspark.sql.functions as F\n",
        "from pyspark.sql.types import StringType\n",
        "import matplotlib.pyplot as plt\n",
        "import seaborn as sns\n",
        "import pandas as pd\n",
        "import warnings\n",
        "warnings.filterwarnings('ignore')\n",
        "\n",
        "# 设置图表样式\n",
        "plt.style.use('default')\n",
        "sns.set_palette(\"husl\")\n"
      ]
    },
    {
      "cell_type": "code",
      "execution_count": 3,
      "metadata": {},
      "outputs": [
        {
          "name": "stdout",
          "output_type": "stream",
          "text": [
            "Spark Version: 3.5.0\n",
            "Available cores: 20\n"
          ]
        }
      ],
      "source": [
        "# 初始化 Spark Session\n",
        "spark = SparkSession.builder \\\n",
        "    .appName(\"TweetAnalysis_DataIngestion\") \\\n",
        "    .master(\"local[*]\") \\\n",
        "    .config(\"spark.driver.memory\", \"16g\") \\\n",
        "    .config(\"spark.sql.execution.arrow.pyspark.enabled\", \"true\") \\\n",
        "    .getOrCreate()\n",
        "\n",
        "sc = spark.sparkContext\n",
        "print(f\"Spark Version: {spark.version}\")\n",
        "print(f\"Available cores: {sc.defaultParallelism}\")\n"
      ]
    },
    {
      "cell_type": "code",
      "execution_count": 4,
      "metadata": {},
      "outputs": [
        {
          "name": "stdout",
          "output_type": "stream",
          "text": [
            "数据加载完成！\n"
          ]
        }
      ],
      "source": [
        "# 加载数据\n",
        "raw_data_path = \"/home/jovyan/work/data/raw/the-reddit-climate-change-dataset-comments.csv\"\n",
        "\n",
        "# 加载数据，让Spark自动推断Schema\n",
        "df_raw = spark.read.csv(raw_data_path, header=True, inferSchema=True, multiLine=True, escape='\"')\n",
        "\n",
        "# 缓存DataFrame，后续操作会更快\n",
        "df_raw.cache()\n",
        "\n",
        "print(\"数据加载完成！\")\n"
      ]
    },
    {
      "cell_type": "code",
      "execution_count": 5,
      "metadata": {},
      "outputs": [
        {
          "name": "stdout",
          "output_type": "stream",
          "text": [
            "=== 数据结构 (Schema) ===\n",
            "root\n",
            " |-- type: string (nullable = true)\n",
            " |-- id: string (nullable = true)\n",
            " |-- subreddit.id: string (nullable = true)\n",
            " |-- subreddit.name: string (nullable = true)\n",
            " |-- subreddit.nsfw: boolean (nullable = true)\n",
            " |-- created_utc: integer (nullable = true)\n",
            " |-- permalink: string (nullable = true)\n",
            " |-- body: string (nullable = true)\n",
            " |-- sentiment: double (nullable = true)\n",
            " |-- score: integer (nullable = true)\n",
            "\n"
          ]
        }
      ],
      "source": [
        "# 查看数据结构\n",
        "print(\"=== 数据结构 (Schema) ===\")\n",
        "df_raw.printSchema()\n"
      ]
    },
    {
      "cell_type": "code",
      "execution_count": 6,
      "metadata": {},
      "outputs": [
        {
          "name": "stdout",
          "output_type": "stream",
          "text": [
            "=== 前5行数据 ===\n",
            "+-------+-------+------------+--------------+--------------+-----------+----------------------------------------------------------------------------------------------------------+---------------------------------------------------------------------------------------------------------------------------------------------------------------------------------------------------------------------------------------------------------------------------------------------------------------------------------------------------------------------------------------------------------------------------------------------------------------------------------------------------------------------------------------------------------------------------------------------------------------------------------------------------------------------------------------------------------------------------------------------------------------------------------------------------------------------------------------------------------------------------------------------------------------------------------------------------------------------------------------------------------------------------------------------------------------------------------------------------------------------------------------------------------------------------------------------------------------------------------------------------------------------------------------------------------------------------------------------------------------------------------------------------------------------------------------------------------------------------------------------------------------------------------------------------------------------------+---------+-----+\n",
            "|type   |id     |subreddit.id|subreddit.name|subreddit.nsfw|created_utc|permalink                                                                                                 |body                                                                                                                                                                                                                                                                                                                                                                                                                                                                                                                                                                                                                                                                                                                                                                                                                                                                                                                                                                                                                                                                                                                                                                                                                                                                                                                                                                                                                                                                                                                                                                       |sentiment|score|\n",
            "+-------+-------+------------+--------------+--------------+-----------+----------------------------------------------------------------------------------------------------------+---------------------------------------------------------------------------------------------------------------------------------------------------------------------------------------------------------------------------------------------------------------------------------------------------------------------------------------------------------------------------------------------------------------------------------------------------------------------------------------------------------------------------------------------------------------------------------------------------------------------------------------------------------------------------------------------------------------------------------------------------------------------------------------------------------------------------------------------------------------------------------------------------------------------------------------------------------------------------------------------------------------------------------------------------------------------------------------------------------------------------------------------------------------------------------------------------------------------------------------------------------------------------------------------------------------------------------------------------------------------------------------------------------------------------------------------------------------------------------------------------------------------------------------------------------------------------+---------+-----+\n",
            "|comment|imlddn9|2qh3l       |news          |false         |1661990368 |https://old.reddit.com/r/news/comments/x2cszk/us_life_expectancy_down_for_secondstraight_year/imlddn9/    |Yeah but what the above commenter is saying is their base doesn’t want any of that. They detest all of those things, even the small gradual changes. Investing in nuclear energy is a tacit acknowledgement of man made climate change. Any acknowledgement or concession and they will be primaried out in a minute                                                                                                                                                                                                                                                                                                                                                                                                                                                                                                                                                                                                                                                                                                                                                                                                                                                                                                                                                                                                                                                                                                                                                                                                                                                       |0.5719   |2    |\n",
            "|comment|imldbeh|2qn7b       |ohio          |false         |1661990340 |https://old.reddit.com/r/Ohio/comments/x2awnp/state_government_may_soon_kill_a_solar_project_in/imldbeh/  |Any comparison of efficiency between solar and fossil fuels is nonsensical at best and intentionally misleading at worst. In no universe is light -&gt; photovoltaic cell -&gt; electricity less efficient than light -&gt; entire food chain -&gt; biomass -&gt; decomposition -&gt; millions of years of geothermal heat and pressure -&gt; extraction -&gt; refining and transport -&gt; burning -&gt; turbine generator -&gt; electricity.\\n\\nUgly? More ugly than power lines, roads, apartment buildings, tractors, fences, etc etc etc? You're simply not used to it. Also, who cares? Sure, millions of people died in the displacement from sea rise, famines cause by climate change, and wars from resource scarcity, but thank God we didn't have to look at those solar panels occasionally.\\n\\nOffshore fracking? Fucks sake. Have you already forgotten the deepwater horizon disaster? Think about the damage that did to the gulf coast, add a few million barrels of highly toxic fracking fluid to the mix, and there you have our next major environmental disaster courtesy of offshore fracking. But oh man, those solar panels sure are ugly.\\n\\nStop repeating the lies fed to you by the people getting rich from fossil fuels, who couldn't care less about you or your descendants as long as they get theirs. We can deal with the less environmentally friendly aspects of solar power. We cannot deal with the consequences of continuing to pump carbon into the atmosphere. Y'all need to grow the fuck up and stop whining about the view.|-0.9877  |2    |\n",
            "|comment|imldado|2qhma       |newzealand    |false         |1661990327 |https://old.reddit.com/r/newzealand/comments/x28xci/long_rant_pessimistic_asf_and_feel_like_were/imldado/ |I'm honestly waiting for climate change and the impacts of that to kick some fucking sense into people. But who am I kidding itll still just be more of the poor suffering while the rich claim victim hood for handouts while letting us all starve. Its honestly hard some days to not just give up, and I truly wonder if and when anything will ever actually be done.                                                                                                                                                                                                                                                                                                                                                                                                                                                                                                                                                                                                                                                                                                                                                                                                                                                                                                                                                                                                                                                                                                                                                                                                 |-0.1143  |1    |\n",
            "|comment|imld6cb|2qi09       |sacramento    |false         |1661990278 |https://old.reddit.com/r/Sacramento/comments/x2ruqy/hey_guyz_this_is_a_tough_one_why_do_you_think/imld6cb/|Not just Sacramento. It's actually happening all over the world. Climate change is real, believe it or not.                                                                                                                                                                                                                                                                                                                                                                                                                                                                                                                                                                                                                                                                                                                                                                                                                                                                                                                                                                                                                                                                                                                                                                                                                                                                                                                                                                                                                                                                |0.0      |4    |\n",
            "|comment|imld0kj|2qh1i       |askreddit     |false         |1661990206 |https://old.reddit.com/r/AskReddit/comments/x2fj3g/whats_a_controversial_topic_no_one_wants_to/imld0kj/   |I think climate change tends to get some people riled up. \\n\\nWhen I was part of a debate club, they loved throwing that subject in. One case we had to discuss was whether or not it was okay to fly if it pollutes the air. A friend of mine on the team got very worked up because he loves to travel. At the end, we actually had to make up because our disagreement about flying got very heated.                                                                                                                                                                                                                                                                                                                                                                                                                                                                                                                                                                                                                                                                                                                                                                                                                                                                                                                                                                                                                                                                                                                                                                    |0.6634   |1    |\n",
            "+-------+-------+------------+--------------+--------------+-----------+----------------------------------------------------------------------------------------------------------+---------------------------------------------------------------------------------------------------------------------------------------------------------------------------------------------------------------------------------------------------------------------------------------------------------------------------------------------------------------------------------------------------------------------------------------------------------------------------------------------------------------------------------------------------------------------------------------------------------------------------------------------------------------------------------------------------------------------------------------------------------------------------------------------------------------------------------------------------------------------------------------------------------------------------------------------------------------------------------------------------------------------------------------------------------------------------------------------------------------------------------------------------------------------------------------------------------------------------------------------------------------------------------------------------------------------------------------------------------------------------------------------------------------------------------------------------------------------------------------------------------------------------------------------------------------------------+---------+-----+\n",
            "only showing top 5 rows\n",
            "\n"
          ]
        }
      ],
      "source": [
        "# 查看前几行数据\n",
        "print(\"=== 前5行数据 ===\")\n",
        "df_raw.show(5, truncate=False)\n"
      ]
    },
    {
      "cell_type": "code",
      "execution_count": 7,
      "metadata": {},
      "outputs": [
        {
          "name": "stdout",
          "output_type": "stream",
          "text": [
            "=== 基本统计信息 ===\n",
            "总评论数量: 4,600,698\n",
            "列数: 10\n",
            "列名: ['type', 'id', 'subreddit.id', 'subreddit.name', 'subreddit.nsfw', 'created_utc', 'permalink', 'body', 'sentiment', 'score']\n"
          ]
        }
      ],
      "source": [
        "# 基本统计信息\n",
        "print(\"=== 基本统计信息 ===\")\n",
        "\n",
        "# 1. 数据总量\n",
        "total_count = df_raw.count()\n",
        "print(f\"总评论数量: {total_count:,}\")\n",
        "\n",
        "# 2. 列数\n",
        "num_columns = len(df_raw.columns)\n",
        "print(f\"列数: {num_columns}\")\n",
        "\n",
        "# 3. 列名\n",
        "print(f\"列名: {df_raw.columns}\")\n"
      ]
    },
    {
      "cell_type": "code",
      "execution_count": 8,
      "metadata": {},
      "outputs": [
        {
          "name": "stdout",
          "output_type": "stream",
          "text": [
            "=== 各列详细信息 ===\n",
            "\n",
            "列名: type\n",
            "数据类型: string\n",
            "非空值: 4,600,698 | 空值: 0 (0.00%)\n",
            "  样本1: comment\n",
            "  样本2: comment\n",
            "  样本3: comment\n",
            "--------------------------------------------------\n",
            "\n",
            "列名: id\n",
            "数据类型: string\n",
            "非空值: 4,600,698 | 空值: 0 (0.00%)\n",
            "  样本1: imlddn9\n",
            "  样本2: imldbeh\n",
            "  样本3: imldado\n",
            "--------------------------------------------------\n",
            "\n",
            "列名: subreddit.id\n",
            "数据类型: string\n"
          ]
        },
        {
          "ename": "AnalysisException",
          "evalue": "[UNRESOLVED_COLUMN.WITH_SUGGESTION] A column or function parameter with name `subreddit`.`id` cannot be resolved. Did you mean one of the following? [`subreddit.id`, `subreddit.name`, `subreddit.nsfw`, `body`, `permalink`].;\n'Filter isnotnull('subreddit.id)\n+- Relation [type#0,id#1,subreddit.id#2,subreddit.name#3,subreddit.nsfw#4,created_utc#5,permalink#6,body#7,sentiment#8,score#9] csv\n",
          "output_type": "error",
          "traceback": [
            "\u001b[0;31m---------------------------------------------------------------------------\u001b[0m",
            "\u001b[0;31mAnalysisException\u001b[0m                         Traceback (most recent call last)",
            "Cell \u001b[0;32mIn[8], line 8\u001b[0m\n\u001b[1;32m      5\u001b[0m \u001b[38;5;28mprint\u001b[39m(\u001b[38;5;124mf\u001b[39m\u001b[38;5;124m\"\u001b[39m\u001b[38;5;124m数据类型: \u001b[39m\u001b[38;5;132;01m{\u001b[39;00m\u001b[38;5;28mdict\u001b[39m(df_raw\u001b[38;5;241m.\u001b[39mdtypes)[col_name]\u001b[38;5;132;01m}\u001b[39;00m\u001b[38;5;124m\"\u001b[39m)\n\u001b[1;32m      7\u001b[0m \u001b[38;5;66;03m# 显示非空值数量\u001b[39;00m\n\u001b[0;32m----> 8\u001b[0m non_null_count \u001b[38;5;241m=\u001b[39m \u001b[43mdf_raw\u001b[49m\u001b[38;5;241;43m.\u001b[39;49m\u001b[43mfilter\u001b[49m\u001b[43m(\u001b[49m\u001b[43mF\u001b[49m\u001b[38;5;241;43m.\u001b[39;49m\u001b[43mcol\u001b[49m\u001b[43m(\u001b[49m\u001b[43mcol_name\u001b[49m\u001b[43m)\u001b[49m\u001b[38;5;241;43m.\u001b[39;49m\u001b[43misNotNull\u001b[49m\u001b[43m(\u001b[49m\u001b[43m)\u001b[49m\u001b[43m)\u001b[49m\u001b[38;5;241m.\u001b[39mcount()\n\u001b[1;32m      9\u001b[0m null_count \u001b[38;5;241m=\u001b[39m total_count \u001b[38;5;241m-\u001b[39m non_null_count\n\u001b[1;32m     10\u001b[0m \u001b[38;5;28mprint\u001b[39m(\u001b[38;5;124mf\u001b[39m\u001b[38;5;124m\"\u001b[39m\u001b[38;5;124m非空值: \u001b[39m\u001b[38;5;132;01m{\u001b[39;00mnon_null_count\u001b[38;5;132;01m:\u001b[39;00m\u001b[38;5;124m,\u001b[39m\u001b[38;5;132;01m}\u001b[39;00m\u001b[38;5;124m | 空值: \u001b[39m\u001b[38;5;132;01m{\u001b[39;00mnull_count\u001b[38;5;132;01m:\u001b[39;00m\u001b[38;5;124m,\u001b[39m\u001b[38;5;132;01m}\u001b[39;00m\u001b[38;5;124m (\u001b[39m\u001b[38;5;132;01m{\u001b[39;00mnull_count\u001b[38;5;241m/\u001b[39mtotal_count\u001b[38;5;241m*\u001b[39m\u001b[38;5;241m100\u001b[39m\u001b[38;5;132;01m:\u001b[39;00m\u001b[38;5;124m.2f\u001b[39m\u001b[38;5;132;01m}\u001b[39;00m\u001b[38;5;124m%)\u001b[39m\u001b[38;5;124m\"\u001b[39m)\n",
            "File \u001b[0;32m/usr/local/spark/python/pyspark/sql/dataframe.py:3325\u001b[0m, in \u001b[0;36mDataFrame.filter\u001b[0;34m(self, condition)\u001b[0m\n\u001b[1;32m   3323\u001b[0m     jdf \u001b[38;5;241m=\u001b[39m \u001b[38;5;28mself\u001b[39m\u001b[38;5;241m.\u001b[39m_jdf\u001b[38;5;241m.\u001b[39mfilter(condition)\n\u001b[1;32m   3324\u001b[0m \u001b[38;5;28;01melif\u001b[39;00m \u001b[38;5;28misinstance\u001b[39m(condition, Column):\n\u001b[0;32m-> 3325\u001b[0m     jdf \u001b[38;5;241m=\u001b[39m \u001b[38;5;28;43mself\u001b[39;49m\u001b[38;5;241;43m.\u001b[39;49m\u001b[43m_jdf\u001b[49m\u001b[38;5;241;43m.\u001b[39;49m\u001b[43mfilter\u001b[49m\u001b[43m(\u001b[49m\u001b[43mcondition\u001b[49m\u001b[38;5;241;43m.\u001b[39;49m\u001b[43m_jc\u001b[49m\u001b[43m)\u001b[49m\n\u001b[1;32m   3326\u001b[0m \u001b[38;5;28;01melse\u001b[39;00m:\n\u001b[1;32m   3327\u001b[0m     \u001b[38;5;28;01mraise\u001b[39;00m PySparkTypeError(\n\u001b[1;32m   3328\u001b[0m         error_class\u001b[38;5;241m=\u001b[39m\u001b[38;5;124m\"\u001b[39m\u001b[38;5;124mNOT_COLUMN_OR_STR\u001b[39m\u001b[38;5;124m\"\u001b[39m,\n\u001b[1;32m   3329\u001b[0m         message_parameters\u001b[38;5;241m=\u001b[39m{\u001b[38;5;124m\"\u001b[39m\u001b[38;5;124marg_name\u001b[39m\u001b[38;5;124m\"\u001b[39m: \u001b[38;5;124m\"\u001b[39m\u001b[38;5;124mcondition\u001b[39m\u001b[38;5;124m\"\u001b[39m, \u001b[38;5;124m\"\u001b[39m\u001b[38;5;124marg_type\u001b[39m\u001b[38;5;124m\"\u001b[39m: \u001b[38;5;28mtype\u001b[39m(condition)\u001b[38;5;241m.\u001b[39m\u001b[38;5;18m__name__\u001b[39m},\n\u001b[1;32m   3330\u001b[0m     )\n",
            "File \u001b[0;32m/usr/local/spark/python/lib/py4j-0.10.9.7-src.zip/py4j/java_gateway.py:1322\u001b[0m, in \u001b[0;36mJavaMember.__call__\u001b[0;34m(self, *args)\u001b[0m\n\u001b[1;32m   1316\u001b[0m command \u001b[38;5;241m=\u001b[39m proto\u001b[38;5;241m.\u001b[39mCALL_COMMAND_NAME \u001b[38;5;241m+\u001b[39m\\\n\u001b[1;32m   1317\u001b[0m     \u001b[38;5;28mself\u001b[39m\u001b[38;5;241m.\u001b[39mcommand_header \u001b[38;5;241m+\u001b[39m\\\n\u001b[1;32m   1318\u001b[0m     args_command \u001b[38;5;241m+\u001b[39m\\\n\u001b[1;32m   1319\u001b[0m     proto\u001b[38;5;241m.\u001b[39mEND_COMMAND_PART\n\u001b[1;32m   1321\u001b[0m answer \u001b[38;5;241m=\u001b[39m \u001b[38;5;28mself\u001b[39m\u001b[38;5;241m.\u001b[39mgateway_client\u001b[38;5;241m.\u001b[39msend_command(command)\n\u001b[0;32m-> 1322\u001b[0m return_value \u001b[38;5;241m=\u001b[39m \u001b[43mget_return_value\u001b[49m\u001b[43m(\u001b[49m\n\u001b[1;32m   1323\u001b[0m \u001b[43m    \u001b[49m\u001b[43manswer\u001b[49m\u001b[43m,\u001b[49m\u001b[43m \u001b[49m\u001b[38;5;28;43mself\u001b[39;49m\u001b[38;5;241;43m.\u001b[39;49m\u001b[43mgateway_client\u001b[49m\u001b[43m,\u001b[49m\u001b[43m \u001b[49m\u001b[38;5;28;43mself\u001b[39;49m\u001b[38;5;241;43m.\u001b[39;49m\u001b[43mtarget_id\u001b[49m\u001b[43m,\u001b[49m\u001b[43m \u001b[49m\u001b[38;5;28;43mself\u001b[39;49m\u001b[38;5;241;43m.\u001b[39;49m\u001b[43mname\u001b[49m\u001b[43m)\u001b[49m\n\u001b[1;32m   1325\u001b[0m \u001b[38;5;28;01mfor\u001b[39;00m temp_arg \u001b[38;5;129;01min\u001b[39;00m temp_args:\n\u001b[1;32m   1326\u001b[0m     \u001b[38;5;28;01mif\u001b[39;00m \u001b[38;5;28mhasattr\u001b[39m(temp_arg, \u001b[38;5;124m\"\u001b[39m\u001b[38;5;124m_detach\u001b[39m\u001b[38;5;124m\"\u001b[39m):\n",
            "File \u001b[0;32m/usr/local/spark/python/pyspark/errors/exceptions/captured.py:185\u001b[0m, in \u001b[0;36mcapture_sql_exception.<locals>.deco\u001b[0;34m(*a, **kw)\u001b[0m\n\u001b[1;32m    181\u001b[0m converted \u001b[38;5;241m=\u001b[39m convert_exception(e\u001b[38;5;241m.\u001b[39mjava_exception)\n\u001b[1;32m    182\u001b[0m \u001b[38;5;28;01mif\u001b[39;00m \u001b[38;5;129;01mnot\u001b[39;00m \u001b[38;5;28misinstance\u001b[39m(converted, UnknownException):\n\u001b[1;32m    183\u001b[0m     \u001b[38;5;66;03m# Hide where the exception came from that shows a non-Pythonic\u001b[39;00m\n\u001b[1;32m    184\u001b[0m     \u001b[38;5;66;03m# JVM exception message.\u001b[39;00m\n\u001b[0;32m--> 185\u001b[0m     \u001b[38;5;28;01mraise\u001b[39;00m converted \u001b[38;5;28;01mfrom\u001b[39;00m \u001b[38;5;28;01mNone\u001b[39;00m\n\u001b[1;32m    186\u001b[0m \u001b[38;5;28;01melse\u001b[39;00m:\n\u001b[1;32m    187\u001b[0m     \u001b[38;5;28;01mraise\u001b[39;00m\n",
            "\u001b[0;31mAnalysisException\u001b[0m: [UNRESOLVED_COLUMN.WITH_SUGGESTION] A column or function parameter with name `subreddit`.`id` cannot be resolved. Did you mean one of the following? [`subreddit.id`, `subreddit.name`, `subreddit.nsfw`, `body`, `permalink`].;\n'Filter isnotnull('subreddit.id)\n+- Relation [type#0,id#1,subreddit.id#2,subreddit.name#3,subreddit.nsfw#4,created_utc#5,permalink#6,body#7,sentiment#8,score#9] csv\n"
          ]
        }
      ],
      "source": [
        "# 检查各列的详细信息和样本数据\n",
        "print(\"=== 各列详细信息 ===\")\n",
        "for col_name in df_raw.columns:\n",
        "    print(f\"\\n列名: {col_name}\")\n",
        "    print(f\"数据类型: {dict(df_raw.dtypes)[col_name]}\")\n",
        "    \n",
        "    # 显示非空值数量 - 使用反引号处理包含点号的列名\n",
        "    if '.' in col_name:\n",
        "        non_null_count = df_raw.filter(F.col(f\"`{col_name}`\").isNotNull()).count()\n",
        "    else:\n",
        "        non_null_count = df_raw.filter(F.col(col_name).isNotNull()).count()\n",
        "    \n",
        "    null_count = total_count - non_null_count\n",
        "    print(f\"非空值: {non_null_count:,} | 空值: {null_count:,} ({null_count/total_count*100:.2f}%)\")\n",
        "    \n",
        "    # 显示样本值（对于字符串类型，限制长度）\n",
        "    if col_name in ['body', 'permalink']:\n",
        "        sample_values = df_raw.select(col_name).limit(2).collect()\n",
        "        for i, row in enumerate(sample_values):\n",
        "            value = str(row[0])[:100] + \"...\" if row[0] and len(str(row[0])) > 100 else row[0]\n",
        "            print(f\"  样本{i+1}: {value}\")\n",
        "    else:\n",
        "        sample_values = df_raw.select(col_name).limit(3).collect()\n",
        "        for i, row in enumerate(sample_values):\n",
        "            print(f\"  样本{i+1}: {row[0]}\")\n",
        "    print(\"-\" * 50)\n"
      ]
    },
    {
      "cell_type": "code",
      "execution_count": null,
      "metadata": {},
      "outputs": [],
      "source": [
        "# 时间范围分析\n",
        "print(\"=== 时间范围分析 ===\")\n",
        "\n",
        "# 转换时间戳为可读格式\n",
        "df_with_time = df_raw.withColumn(\"timestamp\", F.from_unixtime(F.col(\"created_utc\")))\n",
        "\n",
        "# 获取时间范围\n",
        "time_stats = df_with_time.select(\n",
        "    F.min(\"timestamp\").alias(\"earliest_time\"),\n",
        "    F.max(\"timestamp\").alias(\"latest_time\")\n",
        ").collect()[0]\n",
        "\n",
        "print(f\"最早评论时间: {time_stats['earliest_time']}\")\n",
        "print(f\"最晚评论时间: {time_stats['latest_time']}\")\n",
        "\n",
        "# 按年份统计评论数量\n",
        "yearly_stats = df_with_time.withColumn(\"year\", F.year(\"timestamp\")) \\\n",
        "                          .groupBy(\"year\") \\\n",
        "                          .count() \\\n",
        "                          .orderBy(\"year\")\n",
        "\n",
        "print(\"\\n按年份统计评论数量:\")\n",
        "yearly_stats.show()\n"
      ]
    },
    {
      "cell_type": "code",
      "execution_count": null,
      "metadata": {},
      "outputs": [],
      "source": [
        "# 子版块分析\n",
        "print(\"=== 子版块分析 ===\")\n",
        "\n",
        "# 统计各子版块的评论数量 - 使用反引号处理列名\n",
        "subreddit_stats = df_raw.groupBy(F.col(\"`subreddit.name`\")) \\\n",
        "                        .count() \\\n",
        "                        .orderBy(F.desc(\"count\"))\n",
        "\n",
        "print(\"评论数量最多的前20个子版块:\")\n",
        "subreddit_stats.show(20)\n",
        "\n",
        "# 转换为 Pandas 进行可视化\n",
        "top_subreddits = subreddit_stats.limit(15).toPandas()\n",
        "\n",
        "plt.figure(figsize=(12, 8))\n",
        "sns.barplot(data=top_subreddits, x='count', y='subreddit.name')\n",
        "plt.title('评论数量最多的前15个子版块')\n",
        "plt.xlabel('评论数量')\n",
        "plt.ylabel('子版块名称')\n",
        "plt.tight_layout()\n",
        "plt.show()\n"
      ]
    },
    {
      "cell_type": "code",
      "execution_count": null,
      "metadata": {},
      "outputs": [],
      "source": [
        "# 情感分数分析（数据中已有sentiment列）\n",
        "print(\"=== 情感分数分析 ===\")\n",
        "\n",
        "# 基本统计\n",
        "sentiment_stats = df_raw.select(\"sentiment\").describe()\n",
        "sentiment_stats.show()\n",
        "\n",
        "# 情感分数分布\n",
        "print(\"情感分数分布:\")\n",
        "sentiment_ranges = df_raw.withColumn(\"sentiment_range\",\n",
        "    F.when(F.col(\"sentiment\") >= 0.1, \"positive\")\n",
        "     .when(F.col(\"sentiment\") <= -0.1, \"negative\")\n",
        "     .otherwise(\"neutral\")\n",
        ").groupBy(\"sentiment_range\").count().orderBy(F.desc(\"count\"))\n",
        "\n",
        "sentiment_ranges.show()\n",
        "\n",
        "# 可视化情感分数分布\n",
        "sentiment_sample = df_raw.select(\"sentiment\").sample(False, 0.01).toPandas()  # 抽样1%\n",
        "\n",
        "plt.figure(figsize=(12, 5))\n",
        "\n",
        "plt.subplot(1, 2, 1)\n",
        "plt.hist(sentiment_sample['sentiment'], bins=50, alpha=0.7, edgecolor='black')\n",
        "plt.title('情感分数分布直方图')\n",
        "plt.xlabel('情感分数')\n",
        "plt.ylabel('频次')\n",
        "\n",
        "plt.subplot(1, 2, 2)\n",
        "sns.boxplot(y=sentiment_sample['sentiment'])\n",
        "plt.title('情感分数箱线图')\n",
        "plt.ylabel('情感分数')\n",
        "\n",
        "plt.tight_layout()\n",
        "plt.show()\n"
      ]
    },
    {
      "cell_type": "code",
      "execution_count": null,
      "metadata": {},
      "outputs": [],
      "source": [
        "# 评论长度分析\n",
        "print(\"=== 评论长度分析 ===\")\n",
        "\n",
        "# 计算评论长度\n",
        "df_with_length = df_raw.withColumn(\"body_length\", F.length(F.col(\"body\")))\n",
        "\n",
        "# 长度统计\n",
        "length_stats = df_with_length.select(\"body_length\").describe()\n",
        "length_stats.show()\n",
        "\n",
        "# 长度分布\n",
        "print(\"评论长度分布:\")\n",
        "length_ranges = df_with_length.withColumn(\"length_range\",\n",
        "    F.when(F.col(\"body_length\") <= 50, \"very_short\")\n",
        "     .when(F.col(\"body_length\") <= 200, \"short\")\n",
        "     .when(F.col(\"body_length\") <= 500, \"medium\")\n",
        "     .when(F.col(\"body_length\") <= 1000, \"long\")\n",
        "     .otherwise(\"very_long\")\n",
        ").groupBy(\"length_range\").count().orderBy(F.desc(\"count\"))\n",
        "\n",
        "length_ranges.show()\n",
        "\n",
        "# 可视化评论长度分布\n",
        "length_sample = df_with_length.select(\"body_length\").sample(False, 0.01).toPandas()\n",
        "\n",
        "plt.figure(figsize=(10, 6))\n",
        "plt.hist(length_sample['body_length'], bins=50, alpha=0.7, edgecolor='black')\n",
        "plt.title('评论长度分布直方图')\n",
        "plt.xlabel('评论长度（字符数）')\n",
        "plt.ylabel('频次')\n",
        "plt.xlim(0, 2000)  # 限制x轴范围以便更好地观察\n",
        "plt.show()\n"
      ]
    },
    {
      "cell_type": "raw",
      "metadata": {},
      "source": [
        "## 📊 数据探索总结\n",
        "\n",
        "通过以上分析，我们对数据集有了全面的了解：\n",
        "\n",
        "### 数据规模\n",
        "- **总量**: 460万条 Reddit 评论\n",
        "- **时间跨度**: 从数据中的时间戳可以看出覆盖的时间范围\n",
        "- **来源**: 多个 Reddit 子版块的气候变化相关讨论\n",
        "\n",
        "### 关键发现\n",
        "1. **数据质量**: 检查了各列的缺失值情况\n",
        "2. **情感分布**: 数据中已包含预计算的情感分数\n",
        "3. **内容长度**: 评论长度分布情况\n",
        "4. **社区分布**: 不同子版块的参与度\n",
        "\n",
        "### 下一步计划\n",
        "1. **数据清洗**: 处理缺失值、异常值和噪声数据\n",
        "2. **文本预处理**: 清理HTML标签、URL、特殊字符等\n",
        "3. **深度分析**: 情感趋势、主题建模、分类预测\n"
      ]
    }
  ],
  "metadata": {
    "kernelspec": {
      "display_name": "Python 3 (ipykernel)",
      "language": "python",
      "name": "python3"
    }
  },
  "nbformat": 4,
  "nbformat_minor": 2
}
