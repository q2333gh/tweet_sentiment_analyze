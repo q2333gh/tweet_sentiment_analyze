{
  "cells": [
    {
      "cell_type": "raw",
      "metadata": {
        "vscode": {
          "languageId": "raw"
        }
      },
      "source": [
        "# 第二步：数据清洗 (Data Cleaning)\n",
        "\n",
        "本 notebook 的目标：\n",
        "1. 加载原始数据\n",
        "2. 实施全面的数据清洗流程\n",
        "3. 处理缺失值、重复值和异常值\n",
        "4. 文本预处理和标准化\n",
        "5. 保存清洗后的数据\n",
        "\n",
        "## 清洗策略\n",
        "- 去除重复记录\n",
        "- 处理缺失值\n",
        "- 文本清洗：去除URL、HTML标签、特殊字符\n",
        "- 标准化时间格式\n",
        "- 过滤异常数据\n"
      ]
    },
    {
      "cell_type": "code",
      "execution_count": 1,
      "metadata": {},
      "outputs": [
        {
          "name": "stdout",
          "output_type": "stream",
          "text": [
            "库导入完成！\n"
          ]
        }
      ],
      "source": [
        "# 导入必要的库\n",
        "from pyspark.sql import SparkSession\n",
        "import pyspark.sql.functions as F\n",
        "from pyspark.sql.types import StringType, TimestampType, ArrayType, BooleanType\n",
        "from pyspark.ml.feature import Tokenizer, StopWordsRemover\n",
        "import re\n",
        "import matplotlib.pyplot as plt\n",
        "import seaborn as sns\n",
        "import pandas as pd\n",
        "import warnings\n",
        "warnings.filterwarnings('ignore')\n",
        "\n",
        "print(\"库导入完成！\")\n"
      ]
    },
    {
      "cell_type": "code",
      "execution_count": 2,
      "metadata": {},
      "outputs": [
        {
          "name": "stdout",
          "output_type": "stream",
          "text": [
            "Spark Version: 3.5.0\n",
            "Available cores: 20\n",
            "原始数据加载完成，共 4,600,698 条记录\n"
          ]
        }
      ],
      "source": [
        "# 初始化 Spark Session\n",
        "spark = SparkSession.builder \\\n",
        "    .appName(\"TweetAnalysis_DataCleaning\") \\\n",
        "    .master(\"local[*]\") \\\n",
        "    .config(\"spark.driver.memory\", \"16g\") \\\n",
        "    .config(\"spark.sql.execution.arrow.pyspark.enabled\", \"true\") \\\n",
        "    .getOrCreate()\n",
        "\n",
        "sc = spark.sparkContext\n",
        "print(f\"Spark Version: {spark.version}\")\n",
        "print(f\"Available cores: {sc.defaultParallelism}\")\n",
        "\n",
        "# 加载原始数据\n",
        "raw_data_path = \"/home/jovyan/work/data/raw/the-reddit-climate-change-dataset-comments.csv\"\n",
        "df_raw = spark.read.csv(raw_data_path, header=True, inferSchema=True, multiLine=True, escape='\"')\n",
        "df_raw.cache()\n",
        "\n",
        "print(f\"原始数据加载完成，共 {df_raw.count():,} 条记录\")\n"
      ]
    },
    {
      "cell_type": "code",
      "execution_count": 3,
      "metadata": {},
      "outputs": [
        {
          "name": "stdout",
          "output_type": "stream",
          "text": [
            "文本清洗UDF创建完成！\n"
          ]
        }
      ],
      "source": [
        "# 定义文本清洗函数\n",
        "def create_text_cleaning_udf():\n",
        "    \"\"\"创建文本清洗的UDF函数\"\"\"\n",
        "    def clean_text_func(text):\n",
        "        if text is None:\n",
        "            return None\n",
        "        \n",
        "        text = str(text)\n",
        "        \n",
        "        # 1. 转换为小写\n",
        "        text = text.lower()\n",
        "        \n",
        "        # 2. 去除URL\n",
        "        text = re.sub(r'https?://\\S+|www\\.\\S+', '', text)\n",
        "        \n",
        "        # 3. 去除Reddit特有的格式\n",
        "        text = re.sub(r'/u/\\w+', '', text)  # 去除用户名\n",
        "        text = re.sub(r'/r/\\w+', '', text)  # 去除子版块名\n",
        "        text = re.sub(r'&gt;', '', text)   # 去除引用符号\n",
        "        text = re.sub(r'&lt;', '', text)\n",
        "        text = re.sub(r'&amp;', 'and', text)\n",
        "        \n",
        "        # 4. 去除HTML标签\n",
        "        text = re.sub(r'<.*?>', '', text)\n",
        "        \n",
        "        # 5. 去除特殊字符，保留字母、数字、空格和基本标点\n",
        "        text = re.sub(r'[^a-zA-Z0-9\\s\\.\\,\\!\\?\\;\\:]', ' ', text)\n",
        "        \n",
        "        # 6. 去除多余的空格\n",
        "        text = re.sub(r'\\s+', ' ', text).strip()\n",
        "        \n",
        "        # 7. 过滤过短的文本\n",
        "        if len(text) < 10:\n",
        "            return None\n",
        "            \n",
        "        return text\n",
        "    \n",
        "    return F.udf(clean_text_func, StringType())\n",
        "\n",
        "# 创建UDF\n",
        "clean_text_udf = create_text_cleaning_udf()\n",
        "print(\"文本清洗UDF创建完成！\")\n"
      ]
    },
    {
      "cell_type": "code",
      "execution_count": 4,
      "metadata": {},
      "outputs": [
        {
          "name": "stdout",
          "output_type": "stream",
          "text": [
            "=== 开始数据清洗流程 ===\n",
            "1. 处理时间戳...\n",
            "2. 去除重复记录...\n",
            "   去重前: 4,600,698 条\n",
            "   去重后: 4,600,698 条\n",
            "   删除了 0 条重复记录\n",
            "3. 处理缺失值...\n"
          ]
        },
        {
          "name": "stderr",
          "output_type": "stream",
          "text": [
            "ERROR:root:Exception while sending command.\n",
            "Traceback (most recent call last):\n",
            "  File \"/usr/local/spark/python/lib/py4j-0.10.9.7-src.zip/py4j/clientserver.py\", line 516, in send_command\n",
            "    raise Py4JNetworkError(\"Answer from Java side is empty\")\n",
            "py4j.protocol.Py4JNetworkError: Answer from Java side is empty\n",
            "\n",
            "During handling of the above exception, another exception occurred:\n",
            "\n",
            "Traceback (most recent call last):\n",
            "  File \"/usr/local/spark/python/lib/py4j-0.10.9.7-src.zip/py4j/java_gateway.py\", line 1038, in send_command\n",
            "    response = connection.send_command(command)\n",
            "               ^^^^^^^^^^^^^^^^^^^^^^^^^^^^^^^^\n",
            "  File \"/usr/local/spark/python/lib/py4j-0.10.9.7-src.zip/py4j/clientserver.py\", line 539, in send_command\n",
            "    raise Py4JNetworkError(\n",
            "py4j.protocol.Py4JNetworkError: Error while sending or receiving\n",
            "ERROR:root:Exception while sending command.\n",
            "Traceback (most recent call last):\n",
            "  File \"/usr/local/spark/python/lib/py4j-0.10.9.7-src.zip/py4j/clientserver.py\", line 516, in send_command\n",
            "    raise Py4JNetworkError(\"Answer from Java side is empty\")\n",
            "py4j.protocol.Py4JNetworkError: Answer from Java side is empty\n",
            "\n",
            "During handling of the above exception, another exception occurred:\n",
            "\n",
            "Traceback (most recent call last):\n",
            "  File \"/usr/local/spark/python/lib/py4j-0.10.9.7-src.zip/py4j/java_gateway.py\", line 1038, in send_command\n",
            "    response = connection.send_command(command)\n",
            "               ^^^^^^^^^^^^^^^^^^^^^^^^^^^^^^^^\n",
            "  File \"/usr/local/spark/python/lib/py4j-0.10.9.7-src.zip/py4j/clientserver.py\", line 539, in send_command\n",
            "    raise Py4JNetworkError(\n",
            "py4j.protocol.Py4JNetworkError: Error while sending or receiving\n"
          ]
        },
        {
          "ename": "Py4JError",
          "evalue": "An error occurred while calling o52.count",
          "output_type": "error",
          "traceback": [
            "\u001b[0;31m---------------------------------------------------------------------------\u001b[0m",
            "\u001b[0;31mPy4JError\u001b[0m                                 Traceback (most recent call last)",
            "Cell \u001b[0;32mIn[4], line 22\u001b[0m\n\u001b[1;32m     20\u001b[0m df_cleaned \u001b[38;5;241m=\u001b[39m df_cleaned\u001b[38;5;241m.\u001b[39mfilter(F\u001b[38;5;241m.\u001b[39mcol(\u001b[38;5;124m\"\u001b[39m\u001b[38;5;124mbody\u001b[39m\u001b[38;5;124m\"\u001b[39m)\u001b[38;5;241m.\u001b[39misNotNull())\n\u001b[1;32m     21\u001b[0m df_cleaned \u001b[38;5;241m=\u001b[39m df_cleaned\u001b[38;5;241m.\u001b[39mfilter(F\u001b[38;5;241m.\u001b[39mcol(\u001b[38;5;124m\"\u001b[39m\u001b[38;5;124mbody\u001b[39m\u001b[38;5;124m\"\u001b[39m) \u001b[38;5;241m!=\u001b[39m \u001b[38;5;124m\"\u001b[39m\u001b[38;5;124m\"\u001b[39m)\n\u001b[0;32m---> 22\u001b[0m after_null_count \u001b[38;5;241m=\u001b[39m \u001b[43mdf_cleaned\u001b[49m\u001b[38;5;241;43m.\u001b[39;49m\u001b[43mcount\u001b[49m\u001b[43m(\u001b[49m\u001b[43m)\u001b[49m\n\u001b[1;32m     23\u001b[0m \u001b[38;5;28mprint\u001b[39m(\u001b[38;5;124mf\u001b[39m\u001b[38;5;124m\"\u001b[39m\u001b[38;5;124m   删除空评论后: \u001b[39m\u001b[38;5;132;01m{\u001b[39;00mafter_null_count\u001b[38;5;132;01m:\u001b[39;00m\u001b[38;5;124m,\u001b[39m\u001b[38;5;132;01m}\u001b[39;00m\u001b[38;5;124m 条\u001b[39m\u001b[38;5;124m\"\u001b[39m)\n\u001b[1;32m     25\u001b[0m \u001b[38;5;66;03m# 4. 应用文本清洗\u001b[39;00m\n",
            "File \u001b[0;32m/usr/local/spark/python/pyspark/sql/dataframe.py:1234\u001b[0m, in \u001b[0;36mDataFrame.count\u001b[0;34m(self)\u001b[0m\n\u001b[1;32m   1211\u001b[0m \u001b[38;5;28;01mdef\u001b[39;00m \u001b[38;5;21mcount\u001b[39m(\u001b[38;5;28mself\u001b[39m) \u001b[38;5;241m-\u001b[39m\u001b[38;5;241m>\u001b[39m \u001b[38;5;28mint\u001b[39m:\n\u001b[1;32m   1212\u001b[0m \u001b[38;5;250m    \u001b[39m\u001b[38;5;124;03m\"\"\"Returns the number of rows in this :class:`DataFrame`.\u001b[39;00m\n\u001b[1;32m   1213\u001b[0m \n\u001b[1;32m   1214\u001b[0m \u001b[38;5;124;03m    .. versionadded:: 1.3.0\u001b[39;00m\n\u001b[0;32m   (...)\u001b[0m\n\u001b[1;32m   1232\u001b[0m \u001b[38;5;124;03m    3\u001b[39;00m\n\u001b[1;32m   1233\u001b[0m \u001b[38;5;124;03m    \"\"\"\u001b[39;00m\n\u001b[0;32m-> 1234\u001b[0m     \u001b[38;5;28;01mreturn\u001b[39;00m \u001b[38;5;28mint\u001b[39m(\u001b[38;5;28;43mself\u001b[39;49m\u001b[38;5;241;43m.\u001b[39;49m\u001b[43m_jdf\u001b[49m\u001b[38;5;241;43m.\u001b[39;49m\u001b[43mcount\u001b[49m\u001b[43m(\u001b[49m\u001b[43m)\u001b[49m)\n",
            "File \u001b[0;32m/usr/local/spark/python/lib/py4j-0.10.9.7-src.zip/py4j/java_gateway.py:1322\u001b[0m, in \u001b[0;36mJavaMember.__call__\u001b[0;34m(self, *args)\u001b[0m\n\u001b[1;32m   1316\u001b[0m command \u001b[38;5;241m=\u001b[39m proto\u001b[38;5;241m.\u001b[39mCALL_COMMAND_NAME \u001b[38;5;241m+\u001b[39m\\\n\u001b[1;32m   1317\u001b[0m     \u001b[38;5;28mself\u001b[39m\u001b[38;5;241m.\u001b[39mcommand_header \u001b[38;5;241m+\u001b[39m\\\n\u001b[1;32m   1318\u001b[0m     args_command \u001b[38;5;241m+\u001b[39m\\\n\u001b[1;32m   1319\u001b[0m     proto\u001b[38;5;241m.\u001b[39mEND_COMMAND_PART\n\u001b[1;32m   1321\u001b[0m answer \u001b[38;5;241m=\u001b[39m \u001b[38;5;28mself\u001b[39m\u001b[38;5;241m.\u001b[39mgateway_client\u001b[38;5;241m.\u001b[39msend_command(command)\n\u001b[0;32m-> 1322\u001b[0m return_value \u001b[38;5;241m=\u001b[39m \u001b[43mget_return_value\u001b[49m\u001b[43m(\u001b[49m\n\u001b[1;32m   1323\u001b[0m \u001b[43m    \u001b[49m\u001b[43manswer\u001b[49m\u001b[43m,\u001b[49m\u001b[43m \u001b[49m\u001b[38;5;28;43mself\u001b[39;49m\u001b[38;5;241;43m.\u001b[39;49m\u001b[43mgateway_client\u001b[49m\u001b[43m,\u001b[49m\u001b[43m \u001b[49m\u001b[38;5;28;43mself\u001b[39;49m\u001b[38;5;241;43m.\u001b[39;49m\u001b[43mtarget_id\u001b[49m\u001b[43m,\u001b[49m\u001b[43m \u001b[49m\u001b[38;5;28;43mself\u001b[39;49m\u001b[38;5;241;43m.\u001b[39;49m\u001b[43mname\u001b[49m\u001b[43m)\u001b[49m\n\u001b[1;32m   1325\u001b[0m \u001b[38;5;28;01mfor\u001b[39;00m temp_arg \u001b[38;5;129;01min\u001b[39;00m temp_args:\n\u001b[1;32m   1326\u001b[0m     \u001b[38;5;28;01mif\u001b[39;00m \u001b[38;5;28mhasattr\u001b[39m(temp_arg, \u001b[38;5;124m\"\u001b[39m\u001b[38;5;124m_detach\u001b[39m\u001b[38;5;124m\"\u001b[39m):\n",
            "File \u001b[0;32m/usr/local/spark/python/pyspark/errors/exceptions/captured.py:179\u001b[0m, in \u001b[0;36mcapture_sql_exception.<locals>.deco\u001b[0;34m(*a, **kw)\u001b[0m\n\u001b[1;32m    177\u001b[0m \u001b[38;5;28;01mdef\u001b[39;00m \u001b[38;5;21mdeco\u001b[39m(\u001b[38;5;241m*\u001b[39ma: Any, \u001b[38;5;241m*\u001b[39m\u001b[38;5;241m*\u001b[39mkw: Any) \u001b[38;5;241m-\u001b[39m\u001b[38;5;241m>\u001b[39m Any:\n\u001b[1;32m    178\u001b[0m     \u001b[38;5;28;01mtry\u001b[39;00m:\n\u001b[0;32m--> 179\u001b[0m         \u001b[38;5;28;01mreturn\u001b[39;00m \u001b[43mf\u001b[49m\u001b[43m(\u001b[49m\u001b[38;5;241;43m*\u001b[39;49m\u001b[43ma\u001b[49m\u001b[43m,\u001b[49m\u001b[43m \u001b[49m\u001b[38;5;241;43m*\u001b[39;49m\u001b[38;5;241;43m*\u001b[39;49m\u001b[43mkw\u001b[49m\u001b[43m)\u001b[49m\n\u001b[1;32m    180\u001b[0m     \u001b[38;5;28;01mexcept\u001b[39;00m Py4JJavaError \u001b[38;5;28;01mas\u001b[39;00m e:\n\u001b[1;32m    181\u001b[0m         converted \u001b[38;5;241m=\u001b[39m convert_exception(e\u001b[38;5;241m.\u001b[39mjava_exception)\n",
            "File \u001b[0;32m/usr/local/spark/python/lib/py4j-0.10.9.7-src.zip/py4j/protocol.py:334\u001b[0m, in \u001b[0;36mget_return_value\u001b[0;34m(answer, gateway_client, target_id, name)\u001b[0m\n\u001b[1;32m    330\u001b[0m             \u001b[38;5;28;01mraise\u001b[39;00m Py4JError(\n\u001b[1;32m    331\u001b[0m                 \u001b[38;5;124m\"\u001b[39m\u001b[38;5;124mAn error occurred while calling \u001b[39m\u001b[38;5;132;01m{0}\u001b[39;00m\u001b[38;5;132;01m{1}\u001b[39;00m\u001b[38;5;132;01m{2}\u001b[39;00m\u001b[38;5;124m. Trace:\u001b[39m\u001b[38;5;130;01m\\n\u001b[39;00m\u001b[38;5;132;01m{3}\u001b[39;00m\u001b[38;5;130;01m\\n\u001b[39;00m\u001b[38;5;124m\"\u001b[39m\u001b[38;5;241m.\u001b[39m\n\u001b[1;32m    332\u001b[0m                 \u001b[38;5;28mformat\u001b[39m(target_id, \u001b[38;5;124m\"\u001b[39m\u001b[38;5;124m.\u001b[39m\u001b[38;5;124m\"\u001b[39m, name, value))\n\u001b[1;32m    333\u001b[0m     \u001b[38;5;28;01melse\u001b[39;00m:\n\u001b[0;32m--> 334\u001b[0m         \u001b[38;5;28;01mraise\u001b[39;00m Py4JError(\n\u001b[1;32m    335\u001b[0m             \u001b[38;5;124m\"\u001b[39m\u001b[38;5;124mAn error occurred while calling \u001b[39m\u001b[38;5;132;01m{0}\u001b[39;00m\u001b[38;5;132;01m{1}\u001b[39;00m\u001b[38;5;132;01m{2}\u001b[39;00m\u001b[38;5;124m\"\u001b[39m\u001b[38;5;241m.\u001b[39m\n\u001b[1;32m    336\u001b[0m             \u001b[38;5;28mformat\u001b[39m(target_id, \u001b[38;5;124m\"\u001b[39m\u001b[38;5;124m.\u001b[39m\u001b[38;5;124m\"\u001b[39m, name))\n\u001b[1;32m    337\u001b[0m \u001b[38;5;28;01melse\u001b[39;00m:\n\u001b[1;32m    338\u001b[0m     \u001b[38;5;28mtype\u001b[39m \u001b[38;5;241m=\u001b[39m answer[\u001b[38;5;241m1\u001b[39m]\n",
            "\u001b[0;31mPy4JError\u001b[0m: An error occurred while calling o52.count"
          ]
        }
      ],
      "source": [
        "# 执行数据清洗流程\n",
        "print(\"=== 开始数据清洗流程 ===\")\n",
        "\n",
        "# 1. 添加时间戳列\n",
        "print(\"1. 处理时间戳...\")\n",
        "df_cleaned = df_raw.withColumn(\"timestamp\", F.from_unixtime(F.col(\"created_utc\")))\n",
        "\n",
        "# 2. 去除重复记录（基于id列）\n",
        "print(\"2. 去除重复记录...\")\n",
        "initial_count = df_cleaned.count()\n",
        "df_cleaned = df_cleaned.dropDuplicates(['id'])\n",
        "after_dedup_count = df_cleaned.count()\n",
        "print(f\"   去重前: {initial_count:,} 条\")\n",
        "print(f\"   去重后: {after_dedup_count:,} 条\")\n",
        "print(f\"   删除了 {initial_count - after_dedup_count:,} 条重复记录\")\n",
        "\n",
        "# 3. 处理缺失值\n",
        "print(\"3. 处理缺失值...\")\n",
        "# 删除body为空的记录（这是我们分析的核心字段）\n",
        "df_cleaned = df_cleaned.filter(F.col(\"body\").isNotNull())\n",
        "df_cleaned = df_cleaned.filter(F.col(\"body\") != \"\")\n",
        "after_null_count = df_cleaned.count()\n",
        "print(f\"   删除空评论后: {after_null_count:,} 条\")\n",
        "\n",
        "# 4. 应用文本清洗\n",
        "print(\"4. 应用文本清洗...\")\n",
        "df_cleaned = df_cleaned.withColumn(\"cleaned_body\", clean_text_udf(F.col(\"body\")))\n",
        "\n",
        "# 5. 过滤清洗后为空的记录\n",
        "df_cleaned = df_cleaned.filter(F.col(\"cleaned_body\").isNotNull())\n",
        "after_text_clean_count = df_cleaned.count()\n",
        "print(f\"   文本清洗后: {after_text_clean_count:,} 条\")\n",
        "\n",
        "print(f\"\\n总计删除了 {initial_count - after_text_clean_count:,} 条记录\")\n",
        "print(f\"清洗完成率: {after_text_clean_count/initial_count*100:.2f}%\")\n"
      ]
    },
    {
      "cell_type": "code",
      "execution_count": null,
      "metadata": {},
      "outputs": [],
      "source": [
        "# 文本分词和停用词处理\n",
        "print(\"=== 文本分词和停用词处理 ===\")\n",
        "\n",
        "# 1. 分词\n",
        "print(\"1. 执行分词...\")\n",
        "tokenizer = Tokenizer(inputCol=\"cleaned_body\", outputCol=\"tokens_raw\")\n",
        "df_tokenized = tokenizer.transform(df_cleaned)\n",
        "\n",
        "# 2. 去除停用词\n",
        "print(\"2. 去除停用词...\")\n",
        "remover = StopWordsRemover(inputCol=\"tokens_raw\", outputCol=\"tokens_cleaned\")\n",
        "df_tokenized = remover.transform(df_tokenized)\n",
        "\n",
        "# 3. 过滤掉分词后为空的记录\n",
        "df_tokenized = df_tokenized.filter(F.size(F.col(\"tokens_cleaned\")) > 0)\n",
        "\n",
        "print(f\"分词处理后剩余: {df_tokenized.count():,} 条记录\")\n",
        "\n",
        "# 缓存结果\n",
        "df_tokenized.cache()\n",
        "print(\"数据已缓存到内存中\")\n"
      ]
    },
    {
      "cell_type": "code",
      "execution_count": null,
      "metadata": {},
      "outputs": [],
      "source": [
        "# 数据质量检查\n",
        "print(\"=== 数据质量检查 ===\")\n",
        "\n",
        "# 1. 查看清洗前后的对比样本\n",
        "print(\"1. 清洗前后对比样本:\")\n",
        "comparison_sample = df_tokenized.select(\"body\", \"cleaned_body\", \"tokens_cleaned\").limit(3).collect()\n",
        "\n",
        "for i, row in enumerate(comparison_sample):\n",
        "    print(f\"\\n样本 {i+1}:\")\n",
        "    print(f\"原文: {row['body'][:200]}...\")\n",
        "    print(f\"清洗后: {row['cleaned_body'][:200]}...\")\n",
        "    print(f\"分词结果: {row['tokens_cleaned'][:10]}...\")\n",
        "\n",
        "# 2. 统计信息\n",
        "print(\"\\n2. 清洗后数据统计:\")\n",
        "print(f\"总记录数: {df_tokenized.count():,}\")\n",
        "\n",
        "# 文本长度分布\n",
        "length_stats = df_tokenized.withColumn(\"cleaned_length\", F.length(\"cleaned_body\")) \\\n",
        "                          .select(\"cleaned_length\") \\\n",
        "                          .describe()\n",
        "print(\"\\n清洗后文本长度统计:\")\n",
        "length_stats.show()\n",
        "\n",
        "# 词汇数量分布\n",
        "token_stats = df_tokenized.withColumn(\"token_count\", F.size(\"tokens_cleaned\")) \\\n",
        "                         .select(\"token_count\") \\\n",
        "                         .describe()\n",
        "print(\"分词后词汇数量统计:\")\n",
        "token_stats.show()\n"
      ]
    },
    {
      "cell_type": "code",
      "execution_count": null,
      "metadata": {},
      "outputs": [],
      "source": [
        "# 保存清洗后的数据\n",
        "print(\"=== 保存清洗后的数据 ===\")\n",
        "\n",
        "# 选择需要保存的列\n",
        "columns_to_save = [\n",
        "    \"id\", \n",
        "    \"subreddit.name\", \n",
        "    \"created_utc\", \n",
        "    \"timestamp\",\n",
        "    \"body\", \n",
        "    \"cleaned_body\", \n",
        "    \"tokens_cleaned\",\n",
        "    \"sentiment\", \n",
        "    \"score\"\n",
        "]\n",
        "\n",
        "df_final = df_tokenized.select(*columns_to_save)\n",
        "\n",
        "# 保存为Parquet格式\n",
        "output_path = \"/home/jovyan/work/data/processed/cleaned_comments.parquet\"\n",
        "print(f\"正在保存到: {output_path}\")\n",
        "\n",
        "df_final.write.mode(\"overwrite\").parquet(output_path)\n",
        "\n",
        "print(\"数据保存完成！\")\n",
        "print(f\"最终数据集包含 {df_final.count():,} 条清洗后的记录\")\n",
        "\n",
        "# 显示最终数据结构\n",
        "print(\"\\n最终数据结构:\")\n",
        "df_final.printSchema()\n"
      ]
    },
    {
      "cell_type": "raw",
      "metadata": {
        "vscode": {
          "languageId": "raw"
        }
      },
      "source": [
        "## 📊 数据清洗总结\n",
        "\n",
        "### 清洗流程完成情况\n",
        "✅ **已完成的清洗步骤**：\n",
        "1. **重复数据处理** - 基于ID去除重复记录\n",
        "2. **缺失值处理** - 删除空评论内容\n",
        "3. **文本标准化** - 小写转换、URL清理、特殊字符处理\n",
        "4. **Reddit格式清理** - 去除用户名、子版块引用、HTML实体\n",
        "5. **分词处理** - 使用Spark ML的Tokenizer\n",
        "6. **停用词移除** - 使用Spark ML的StopWordsRemover\n",
        "7. **数据持久化** - 保存为高效的Parquet格式\n",
        "\n",
        "### 数据质量提升\n",
        "- **数据完整性**: 确保所有记录都有有效的文本内容\n",
        "- **文本标准化**: 统一格式，便于后续分析\n",
        "- **存储优化**: Parquet格式提供更好的压缩和查询性能\n",
        "\n",
        "### 下一步计划\n",
        "1. **探索性数据分析** - 基于清洗后的数据进行深度分析\n",
        "2. **情感分析** - 使用VADER或其他工具进行情感打分\n",
        "3. **主题建模** - 使用LDA发现潜在主题\n",
        "4. **分类建模** - 训练机器学习模型\n",
        "\n",
        "### 文件输出\n",
        "- **清洗后数据**: `/data/processed/cleaned_comments.parquet`\n",
        "- **包含字段**: id, subreddit.name, timestamp, body, cleaned_body, tokens_cleaned, sentiment, score\n"
      ]
    }
  ],
  "metadata": {
    "kernelspec": {
      "display_name": "Python 3 (ipykernel)",
      "language": "python",
      "name": "python3"
    },
    "language_info": {
      "codemirror_mode": {
        "name": "ipython",
        "version": 3
      },
      "file_extension": ".py",
      "mimetype": "text/x-python",
      "name": "python",
      "nbconvert_exporter": "python",
      "pygments_lexer": "ipython3",
      "version": "3.11.6"
    }
  },
  "nbformat": 4,
  "nbformat_minor": 2
}
