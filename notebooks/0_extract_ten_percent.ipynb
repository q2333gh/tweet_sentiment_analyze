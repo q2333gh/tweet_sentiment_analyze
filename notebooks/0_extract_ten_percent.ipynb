{
 "cells": [
  {
   "cell_type": "code",
   "execution_count": null,
   "metadata": {},
   "outputs": [],
   "source": [
    "import pandas as pd\n",
    "\n",
    "# 1. 加载原始 CSV\n",
    "df = pd.read_csv(\"/home/jovyan/work/data/raw/the-reddit-climate-change-dataset-comments.csv\")  # 替换为你的完整路径\n",
    "\n",
    "# 2. 随机抽样 1/10\n",
    "df_sample = df.sample(frac=0.1, random_state=42)\n",
    "# data/processed\n",
    "# 3. 保存为 Parquet 格式（更快被 Spark 加载）\n",
    "df_sample.to_parquet(\"/home/jovyan/work/data/processed/the-reddit-climate-change-dataset-comments-ten-percent.parquet\", index=False)\n",
    "\n",
    "# df = spark.read.parquet(\"sampled_dataset.parquet\")\n"
   ]
  }
 ],
 "metadata": {
  "kernelspec": {
   "display_name": "Python 3 (ipykernel)",
   "language": "python",
   "name": "python3"
  },
  "language_info": {
   "codemirror_mode": {
    "name": "ipython",
    "version": 3
   },
   "file_extension": ".py",
   "mimetype": "text/x-python",
   "name": "python",
   "nbconvert_exporter": "python",
   "pygments_lexer": "ipython3",
   "version": "3.11.6"
  }
 },
 "nbformat": 4,
 "nbformat_minor": 2
}
